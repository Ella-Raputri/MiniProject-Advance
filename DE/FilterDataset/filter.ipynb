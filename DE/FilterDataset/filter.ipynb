{
 "cells": [
  {
   "cell_type": "code",
   "execution_count": 17,
   "metadata": {},
   "outputs": [],
   "source": [
    "import pandas as pd"
   ]
  },
  {
   "cell_type": "code",
   "execution_count": 18,
   "metadata": {},
   "outputs": [
    {
     "name": "stdout",
     "output_type": "stream",
     "text": [
      "<class 'pandas.core.frame.DataFrame'>\n",
      "RangeIndex: 6236 entries, 0 to 6235\n",
      "Data columns (total 9 columns):\n",
      " #   Column            Non-Null Count  Dtype  \n",
      "---  ------            --------------  -----  \n",
      " 0   duration_minutes  4267 non-null   object \n",
      " 1   duration_seasons  1971 non-null   object \n",
      " 2   type              6235 non-null   object \n",
      " 3   title             6235 non-null   object \n",
      " 4   date_added        6223 non-null   object \n",
      " 5   release_year      6234 non-null   float64\n",
      " 6   rating            6223 non-null   object \n",
      " 7   description       6233 non-null   object \n",
      " 8   show_id           6232 non-null   float64\n",
      "dtypes: float64(2), object(7)\n",
      "memory usage: 438.6+ KB\n"
     ]
    }
   ],
   "source": [
    "df = pd.read_csv('netflix_titles1.csv')\n",
    "df.info()"
   ]
  },
  {
   "cell_type": "code",
   "execution_count": 19,
   "metadata": {},
   "outputs": [
    {
     "data": {
      "text/html": [
       "<div>\n",
       "<style scoped>\n",
       "    .dataframe tbody tr th:only-of-type {\n",
       "        vertical-align: middle;\n",
       "    }\n",
       "\n",
       "    .dataframe tbody tr th {\n",
       "        vertical-align: top;\n",
       "    }\n",
       "\n",
       "    .dataframe thead th {\n",
       "        text-align: right;\n",
       "    }\n",
       "</style>\n",
       "<table border=\"1\" class=\"dataframe\">\n",
       "  <thead>\n",
       "    <tr style=\"text-align: right;\">\n",
       "      <th></th>\n",
       "      <th>duration_minutes</th>\n",
       "      <th>duration_seasons</th>\n",
       "      <th>type</th>\n",
       "      <th>title</th>\n",
       "      <th>date_added</th>\n",
       "      <th>release_year</th>\n",
       "      <th>rating</th>\n",
       "      <th>description</th>\n",
       "      <th>show_id</th>\n",
       "    </tr>\n",
       "  </thead>\n",
       "  <tbody>\n",
       "    <tr>\n",
       "      <th>2017</th>\n",
       "      <td>40</td>\n",
       "      <td>NaN</td>\n",
       "      <td>Movie</td>\n",
       "      <td>The Memphis Belle: A Story of a</td>\n",
       "      <td>NaN</td>\n",
       "      <td>NaN</td>\n",
       "      <td>NaN</td>\n",
       "      <td>NaN</td>\n",
       "      <td>NaN</td>\n",
       "    </tr>\n",
       "    <tr>\n",
       "      <th>2018</th>\n",
       "      <td>Flying Fortress\"</td>\n",
       "      <td>3/31/2017</td>\n",
       "      <td>1944</td>\n",
       "      <td>TV-PG</td>\n",
       "      <td>This documentary centers on the crew of the B-...</td>\n",
       "      <td>80119194.0</td>\n",
       "      <td>NaN</td>\n",
       "      <td>NaN</td>\n",
       "      <td>NaN</td>\n",
       "    </tr>\n",
       "    <tr>\n",
       "      <th>4524</th>\n",
       "      <td>87</td>\n",
       "      <td>NaN</td>\n",
       "      <td>Movie</td>\n",
       "      <td>The Bad Education Movie</td>\n",
       "      <td>12/15/2018</td>\n",
       "      <td>2015.0</td>\n",
       "      <td>TV-MA</td>\n",
       "      <td>Britain's most ineffective but caring teacher ...</td>\n",
       "      <td>NaN</td>\n",
       "    </tr>\n",
       "    <tr>\n",
       "      <th>4525</th>\n",
       "      <td>and probably will.\"</td>\n",
       "      <td>80188902</td>\n",
       "      <td>NaN</td>\n",
       "      <td>NaN</td>\n",
       "      <td>NaN</td>\n",
       "      <td>NaN</td>\n",
       "      <td>NaN</td>\n",
       "      <td>NaN</td>\n",
       "      <td>NaN</td>\n",
       "    </tr>\n",
       "  </tbody>\n",
       "</table>\n",
       "</div>"
      ],
      "text/plain": [
       "          duration_minutes duration_seasons   type  \\\n",
       "2017                    40              NaN  Movie   \n",
       "2018      Flying Fortress\"        3/31/2017   1944   \n",
       "4524                    87              NaN  Movie   \n",
       "4525   and probably will.\"         80188902    NaN   \n",
       "\n",
       "                                title  \\\n",
       "2017  The Memphis Belle: A Story of a   \n",
       "2018                            TV-PG   \n",
       "4524          The Bad Education Movie   \n",
       "4525                              NaN   \n",
       "\n",
       "                                             date_added  release_year rating  \\\n",
       "2017                                                NaN           NaN    NaN   \n",
       "2018  This documentary centers on the crew of the B-...    80119194.0    NaN   \n",
       "4524                                         12/15/2018        2015.0  TV-MA   \n",
       "4525                                                NaN           NaN    NaN   \n",
       "\n",
       "                                            description  show_id  \n",
       "2017                                                NaN      NaN  \n",
       "2018                                                NaN      NaN  \n",
       "4524  Britain's most ineffective but caring teacher ...      NaN  \n",
       "4525                                                NaN      NaN  "
      ]
     },
     "execution_count": 19,
     "metadata": {},
     "output_type": "execute_result"
    }
   ],
   "source": [
    "df[df['show_id'].isna()]"
   ]
  },
  {
   "cell_type": "markdown",
   "metadata": {},
   "source": [
    "Data yang ada di row ke 2017 dan 4524 sepertinya mengalami pemisahan menjadi dua row yang berbeda karena show_id sebagai primary key seharusnya tidak boleh NaN. Oleh karena itu, saya akan merubah nilai dari kedua kolom tersebut di file Excel agar datanya menjadi konsisten.\n",
    "\n",
    "Data yang sudah diperbaiki saya simpan di folder fixed dengan nama 'netflix_titles.xlsx'. Sementara itu, Excel workbook yang lama saya ganti namanya menjadi 'old_netflix_titles.xlsx'."
   ]
  },
  {
   "cell_type": "code",
   "execution_count": 20,
   "metadata": {},
   "outputs": [
    {
     "name": "stdout",
     "output_type": "stream",
     "text": [
      "<class 'pandas.core.frame.DataFrame'>\n",
      "RangeIndex: 6234 entries, 0 to 6233\n",
      "Data columns (total 9 columns):\n",
      " #   Column            Non-Null Count  Dtype  \n",
      "---  ------            --------------  -----  \n",
      " 0   duration_minutes  4265 non-null   float64\n",
      " 1   duration_seasons  1969 non-null   float64\n",
      " 2   type              6234 non-null   object \n",
      " 3   title             6234 non-null   object \n",
      " 4   date_added        6223 non-null   object \n",
      " 5   release_year      6234 non-null   int64  \n",
      " 6   rating            6224 non-null   object \n",
      " 7   description       6234 non-null   object \n",
      " 8   show_id           6234 non-null   int64  \n",
      "dtypes: float64(2), int64(2), object(5)\n",
      "memory usage: 438.5+ KB\n",
      "0\n"
     ]
    }
   ],
   "source": [
    "df_title = pd.read_csv('fixed/netflix_titles2.csv')\n",
    "df_title.info()\n",
    "\n",
    "duplicate_count_column = df_title['show_id'].duplicated().sum()\n",
    "print(duplicate_count_column)"
   ]
  },
  {
   "cell_type": "code",
   "execution_count": 21,
   "metadata": {},
   "outputs": [
    {
     "name": "stdout",
     "output_type": "stream",
     "text": [
      "<class 'pandas.core.frame.DataFrame'>\n",
      "RangeIndex: 4852 entries, 0 to 4851\n",
      "Data columns (total 2 columns):\n",
      " #   Column    Non-Null Count  Dtype \n",
      "---  ------    --------------  ----- \n",
      " 0   director  4852 non-null   object\n",
      " 1   show_id   4852 non-null   int64 \n",
      "dtypes: int64(1), object(1)\n",
      "memory usage: 75.9+ KB\n",
      "587\n"
     ]
    }
   ],
   "source": [
    "df_director = pd.read_csv('fixed/netflix_titles_directors.csv')\n",
    "df_director.info()\n",
    "duplicate_count_column = df_director['show_id'].duplicated().sum()\n",
    "print(duplicate_count_column)"
   ]
  },
  {
   "cell_type": "code",
   "execution_count": 22,
   "metadata": {},
   "outputs": [
    {
     "name": "stdout",
     "output_type": "stream",
     "text": [
      "<class 'pandas.core.frame.DataFrame'>\n",
      "RangeIndex: 7179 entries, 0 to 7178\n",
      "Data columns (total 2 columns):\n",
      " #   Column   Non-Null Count  Dtype \n",
      "---  ------   --------------  ----- \n",
      " 0   country  7179 non-null   object\n",
      " 1   show_id  7179 non-null   int64 \n",
      "dtypes: int64(1), object(1)\n",
      "memory usage: 112.3+ KB\n",
      "1421\n"
     ]
    }
   ],
   "source": [
    "df_country = pd.read_csv('fixed/netflix_titles_countries.csv')\n",
    "df_country.info()\n",
    "duplicate_count_column = df_country['show_id'].duplicated().sum()\n",
    "print(duplicate_count_column)"
   ]
  },
  {
   "cell_type": "code",
   "execution_count": 23,
   "metadata": {},
   "outputs": [
    {
     "name": "stdout",
     "output_type": "stream",
     "text": [
      "<class 'pandas.core.frame.DataFrame'>\n",
      "RangeIndex: 44311 entries, 0 to 44310\n",
      "Data columns (total 2 columns):\n",
      " #   Column   Non-Null Count  Dtype \n",
      "---  ------   --------------  ----- \n",
      " 0   cast     44311 non-null  object\n",
      " 1   show_id  44311 non-null  int64 \n",
      "dtypes: int64(1), object(1)\n",
      "memory usage: 692.5+ KB\n",
      "38647\n"
     ]
    }
   ],
   "source": [
    "df_cast = pd.read_csv('fixed/netflix_titles_cast.csv')\n",
    "df_cast.info()\n",
    "duplicate_count_column = df_cast['show_id'].duplicated().sum()\n",
    "print(duplicate_count_column)"
   ]
  },
  {
   "cell_type": "code",
   "execution_count": 24,
   "metadata": {},
   "outputs": [
    {
     "name": "stdout",
     "output_type": "stream",
     "text": [
      "<class 'pandas.core.frame.DataFrame'>\n",
      "RangeIndex: 13670 entries, 0 to 13669\n",
      "Data columns (total 2 columns):\n",
      " #   Column     Non-Null Count  Dtype \n",
      "---  ------     --------------  ----- \n",
      " 0   listed_in  13670 non-null  object\n",
      " 1   show_id    13670 non-null  int64 \n",
      "dtypes: int64(1), object(1)\n",
      "memory usage: 213.7+ KB\n",
      "7436\n"
     ]
    }
   ],
   "source": [
    "df_category = pd.read_csv('fixed/netflix_titles_category.csv')\n",
    "df_category.info()\n",
    "duplicate_count_column = df_category['show_id'].duplicated().sum()\n",
    "print(duplicate_count_column)"
   ]
  }
 ],
 "metadata": {
  "kernelspec": {
   "display_name": "Python 3",
   "language": "python",
   "name": "python3"
  },
  "language_info": {
   "codemirror_mode": {
    "name": "ipython",
    "version": 3
   },
   "file_extension": ".py",
   "mimetype": "text/x-python",
   "name": "python",
   "nbconvert_exporter": "python",
   "pygments_lexer": "ipython3",
   "version": "3.11.5"
  }
 },
 "nbformat": 4,
 "nbformat_minor": 2
}
